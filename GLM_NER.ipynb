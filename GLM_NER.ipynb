{
  "cells": [
    {
      "cell_type": "markdown",
      "metadata": {
        "id": "view-in-github",
        "colab_type": "text"
      },
      "source": [
        "<a href=\"https://colab.research.google.com/github/Kiligmzq6/GPT/blob/main/GLM_NER.ipynb\" target=\"_parent\"><img src=\"https://colab.research.google.com/assets/colab-badge.svg\" alt=\"Open In Colab\"/></a>"
      ]
    },
    {
      "cell_type": "code",
      "source": [
        "from zhipuai import ZhipuAI\n",
        "from google.colab import userdata"
      ],
      "metadata": {
        "id": "RKSJOZS_1S26"
      },
      "execution_count": 4,
      "outputs": []
    },
    {
      "cell_type": "code",
      "source": [
        "client = ZhipuAI(api_key=userdata.get('zhipukey'))\n",
        "\n",
        "\n",
        "def get_relation(text):\n",
        "  tools = [\n",
        "      {\n",
        "          \"type\": \"function\",\n",
        "          \"function\": {\n",
        "              \"name\": \"NER\",\n",
        "              \"description\": \"根据提供的文本，抽取出 主体、客体、关系、关系分类\",\n",
        "              \"parameters\": {\n",
        "                  \"type\": \"object\",\n",
        "                  \"properties\": {\n",
        "                      \"主体\": {\n",
        "                          \"type\": \"string\",\n",
        "                          \"description\": \"文本主体\",\n",
        "                      },\n",
        "                      \"客体\": {\n",
        "                          \"type\": \"string\",\n",
        "                          \"description\": \"文本客体\",\n",
        "                      },\n",
        "                      \"关系\": {\n",
        "                          \"type\": \"string\",\n",
        "                          \"description\": \"主客体关系\",\n",
        "                      },\n",
        "                      \"关系分类\": {\n",
        "                          \"type\": \"string\",\n",
        "                          \"description\": \"主客体关系分类\",\n",
        "                      },\n",
        "                  },\n",
        "                  \"required\": [\"主体\", \"客体\", \"关系\", \"关系分类\"],\n",
        "              },\n",
        "          }\n",
        "      }\n",
        "  ]\n",
        "  messages = [\n",
        "      {\n",
        "          \"role\": \"system\",\n",
        "          \"content\": \"不要假设或猜测传入函数的参数值。如果文本的描述不明确，返回无即可\"\n",
        "      },\n",
        "      {\n",
        "          \"role\": \"user\",\n",
        "          \"content\": text\n",
        "      }\n",
        "    ]\n",
        "\n",
        "  response = client.chat.completions.create(\n",
        "      model=\"glm-3-turbo\",\n",
        "      messages=messages,\n",
        "      tools=tools,\n",
        "      tool_choice=\"auto\",\n",
        "  )\n",
        "\n",
        "  if not response.choices or not response.choices[0].message.tool_calls:\n",
        "    return None\n",
        "\n",
        "  return response.choices[0].message.tool_calls[0].function.arguments\n"
      ],
      "metadata": {
        "id": "c-rSEyhpNBaX"
      },
      "execution_count": 16,
      "outputs": []
    },
    {
      "cell_type": "code",
      "source": [
        "text = \"小明把书给了小红。\"\n",
        "arguments = get_relation(text)\n",
        "print(arguments)"
      ],
      "metadata": {
        "colab": {
          "base_uri": "https://localhost:8080/"
        },
        "id": "MJJ6U2pz1QzI",
        "outputId": "94b0c410-0e79-450a-cbcd-8da8facd6fc6"
      },
      "execution_count": 17,
      "outputs": [
        {
          "output_type": "stream",
          "name": "stdout",
          "text": [
            "{\"主体\":\"小明\",\"关系\":\"给\",\"关系分类\":\"转让\",\"客体\":\"书\"}\n"
          ]
        }
      ]
    },
    {
      "cell_type": "code",
      "source": [
        "text = \"太阳照在花朵上。\"\n",
        "arguments = get_relation(text)\n",
        "print(arguments)"
      ],
      "metadata": {
        "colab": {
          "base_uri": "https://localhost:8080/"
        },
        "id": "2ygsS0l1PuZB",
        "outputId": "fb5d0a62-b394-48ea-a9ab-9a287b568dc9"
      },
      "execution_count": 18,
      "outputs": [
        {
          "output_type": "stream",
          "name": "stdout",
          "text": [
            "{\"主体\":\"太阳\",\"关系\":\"照在\",\"关系分类\":\"阳光照射\",\"客体\":\"花朵\"}\n"
          ]
        }
      ]
    },
    {
      "cell_type": "code",
      "source": [
        "def get_relation_one_shot(text):\n",
        "  tools = [\n",
        "      {\n",
        "          \"type\": \"function\",\n",
        "          \"function\": {\n",
        "              \"name\": \"NER\",\n",
        "              \"description\": \"根据提供的文本，抽取出 主体、客体、关系、关系分类\",\n",
        "              \"parameters\": {\n",
        "                  \"type\": \"object\",\n",
        "                  \"properties\": {\n",
        "                      \"主体\": {\n",
        "                          \"type\": \"string\",\n",
        "                          \"description\": \"文本主体\",\n",
        "                      },\n",
        "                      \"客体\": {\n",
        "                          \"type\": \"string\",\n",
        "                          \"description\": \"文本客体\",\n",
        "                      },\n",
        "                      \"关系\": {\n",
        "                          \"type\": \"string\",\n",
        "                          \"description\": \"主客体关系\",\n",
        "                      },\n",
        "                      \"关系分类\": {\n",
        "                          \"type\": \"string\",\n",
        "                          \"description\": \"主客体关系分类\",\n",
        "                      },\n",
        "                  },\n",
        "                  \"required\": [\"主体\", \"客体\", \"关系\", \"关系分类\"],\n",
        "              },\n",
        "          }\n",
        "      }\n",
        "  ]\n",
        "  messages = [\n",
        "      {\n",
        "          \"role\": \"system\",\n",
        "          \"content\": \"不要假设或猜测传入函数的参数值。如果文本的描述不明确，返回无即可\"\n",
        "      },\n",
        "      {\n",
        "          \"role\": \"system\",\n",
        "          \"content\": \"一个样例：输入“小明把书给了小红”，输出：{'主体': '小明', '客体': '小红', '关系': '把书给了', '关系分类': '赠予'}\"\n",
        "      },\n",
        "      {\n",
        "          \"role\": \"user\",\n",
        "          \"content\": text\n",
        "      }\n",
        "    ]\n",
        "\n",
        "  response = client.chat.completions.create(\n",
        "      model=\"glm-3-turbo\",\n",
        "      messages=messages,\n",
        "      tools=tools,\n",
        "      tool_choice=\"auto\",\n",
        "  )\n",
        "\n",
        "  if not response.choices or not response.choices[0].message.tool_calls:\n",
        "    return None\n",
        "\n",
        "  return response.choices[0].message.tool_calls[0].function.arguments\n"
      ],
      "metadata": {
        "id": "pU2u8rDlRfX2"
      },
      "execution_count": 30,
      "outputs": []
    },
    {
      "cell_type": "code",
      "source": [
        "text = \"小明把书给了小红。\"\n",
        "arguments = get_relation_one_shot(text)\n",
        "print(arguments)"
      ],
      "metadata": {
        "colab": {
          "base_uri": "https://localhost:8080/"
        },
        "id": "xkOTbSMBSpsf",
        "outputId": "6e8f603a-be8a-4705-a0c7-91146c7b8210"
      },
      "execution_count": 31,
      "outputs": [
        {
          "output_type": "stream",
          "name": "stdout",
          "text": [
            "{\"主体\":\"小明\",\"关系\":\"给了\",\"关系分类\":\"赠予\",\"客体\":\"书\"}\n"
          ]
        }
      ]
    },
    {
      "cell_type": "code",
      "source": [
        "text = \"小猫在院子里玩耍。\"\n",
        "arguments = get_relation_one_shot(text)\n",
        "print(arguments)"
      ],
      "metadata": {
        "colab": {
          "base_uri": "https://localhost:8080/"
        },
        "id": "Njtgyv6UTBkJ",
        "outputId": "2575bb0f-ddb0-4fe7-9593-c1537d72e4f0"
      },
      "execution_count": 32,
      "outputs": [
        {
          "output_type": "stream",
          "name": "stdout",
          "text": [
            "{\"主体\":\"小猫\",\"关系\":\"在...玩耍\",\"关系分类\":\"活动地点\",\"客体\":\"院子\"}\n"
          ]
        }
      ]
    },
    {
      "cell_type": "code",
      "source": [],
      "metadata": {
        "id": "AJmPrPHyUGFI"
      },
      "execution_count": null,
      "outputs": []
    }
  ],
  "metadata": {
    "colab": {
      "provenance": [],
      "include_colab_link": true
    },
    "kernelspec": {
      "display_name": "Python 3",
      "name": "python3"
    }
  },
  "nbformat": 4,
  "nbformat_minor": 0
}